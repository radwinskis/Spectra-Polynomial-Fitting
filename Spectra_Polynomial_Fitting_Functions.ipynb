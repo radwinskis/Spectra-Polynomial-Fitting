{
 "cells": [
  {
   "cell_type": "code",
   "execution_count": null,
   "metadata": {},
   "outputs": [],
   "source": [
    "### Required packages and imports ###\n",
    "import pandas as pd\n",
    "import numpy as np\n",
    "from scipy.optimize import minimize\n",
    "from scipy.stats import linregress"
   ]
  },
  {
   "cell_type": "code",
   "execution_count": null,
   "metadata": {},
   "outputs": [],
   "source": [
    "### Function to polynomial fit and then return a list of minima wavelengths, FILTERED BETWEEN 860 AND 990 NM  ###\n",
    "### Inputs are a 1D array of spectra wavelengths and a pandas dataframe of spectra ###\n",
    "def PolyFitIronMinima(wavelength_array, spectra_df): #Inputs are a 1D array of spectra wavelengths and a pandas dataframe of spectra\n",
    "    minima_list = [] #Creation of initial, blank list which will be appended with each calculated minima from the pandas dataframe\n",
    "    for i in range(np.size(spectra_df, 1)): #loop through each spectrum based on how many spectra are in the dataframe\n",
    "        spectra_array = spectra_df.iloc[:, int(i):int(i+1)].values.flatten() #The method to call in each individual spectrum and cast to 1D list\n",
    "        fit = np.polyfit(wavelength_array, spectra_array, 4) #4th degree polynomial fitting to each spectrum\n",
    "        eqn = np.poly1d(fit) #the polynomial equation in typical mathemetical format\n",
    "        minima = int(minimize(eqn, x0=1, method='L-BFGS-B', bounds=((min(wavelength_array), max(wavelength_array)),)).x) #calculation of local minima from the polynomial equation and bounded by wavelength array limits\n",
    "        if minima >= 860 and minima <= 990: #Stating the minimium and maxiumum wavelength for resulting list, to filter out non-iron absorption detections and other non-real absorptions\n",
    "            minima_list.append(minima) #Only add minima to list if in the range of hematite or goethite \n",
    "        else: None\n",
    "    return minima_list #Returns the fully appended list of minima locations. SAVE AS CSV TO KEEP"
   ]
  },
  {
   "cell_type": "code",
   "execution_count": null,
   "metadata": {},
   "outputs": [],
   "source": [
    "### Function to output a list of polynomial fit spectra ###\n",
    "### MUST ALREADY HAVE SPECTRA LIMITED TO BOUNDING WAVELENGTHS OF ABSORPTION FEATURE(S) OF INTEREST ###\n",
    "### Inputs are a 1D array of spectra wavelengths and a pandas dataframe of spectra ###\n",
    "def PolyFitIronAbs(wavelength_array, spectra_df): #Inputs are a 1D array of spectra wavelengths and a pandas dataframe of spectra\n",
    "    x = wavelength_array #simplifying variable call associated to wavelength array\n",
    "    spectra_list = [] #Creation of initial, blank list which will be appended with each polynomial fitted spectrum\n",
    "    for i in range(np.size(spectra_df, 1)): #loop through each spectrum\n",
    "        y = spectra_df.iloc[:, int(i):int(i+1)].values.flatten() #The method to call in each individual spectrum and cast to 1D list\n",
    "        fit = np.polyfit(x, y, 4) #4th degree polynomial fitting to each spectrum\n",
    "        eqn = np.poly1d(fit) #the polynomial equation in typical mathemetical format\n",
    "        spectrum = [] #blank list which will be appended with the fitted spectrum and refreshed for each loop\n",
    "        for i in x: #loop through all x values for fitted equation\n",
    "            calc = eqn(i) #calculate each y value for each x using the fitted function\n",
    "            spectrum.append(calc) #append the new y values to the list\n",
    "        spectra_list.append(spectrum) #append each spectrum to a list of spectra\n",
    "    return spectra_list #Returns the fully appended list of polynomial fitted spectra. SAVE AS CSV TO KEEP"
   ]
  }
 ],
 "metadata": {
  "kernelspec": {
   "display_name": "Python 3.9.1 ('gee')",
   "language": "python",
   "name": "python3"
  },
  "language_info": {
   "name": "python",
   "version": "3.9.1"
  },
  "orig_nbformat": 4,
  "vscode": {
   "interpreter": {
    "hash": "826f4d858860ab8a2f8b87a15c2c90eccbd17ceea76e6d0e2999ec0f24324a0d"
   }
  }
 },
 "nbformat": 4,
 "nbformat_minor": 2
}
